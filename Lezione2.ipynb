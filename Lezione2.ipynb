{
  "nbformat": 4,
  "nbformat_minor": 0,
  "metadata": {
    "colab": {
      "name": "Lezione2.ipynb",
      "provenance": [],
      "collapsed_sections": [],
      "authorship_tag": "ABX9TyM55Fhu+0VRvSoq9cQwx/xn",
      "include_colab_link": true
    },
    "kernelspec": {
      "name": "python3",
      "display_name": "Python 3"
    },
    "language_info": {
      "name": "python"
    },
    "accelerator": "GPU"
  },
  "cells": [
    {
      "cell_type": "markdown",
      "metadata": {
        "id": "view-in-github",
        "colab_type": "text"
      },
      "source": [
        "<a href=\"https://colab.research.google.com/github/federicocanzonieri/DeepLearning/blob/main/Lezione2.ipynb\" target=\"_parent\"><img src=\"https://colab.research.google.com/assets/colab-badge.svg\" alt=\"Open In Colab\"/></a>"
      ]
    },
    {
      "cell_type": "code",
      "metadata": {
        "id": "37oygrsv7995"
      },
      "source": [
        "from sklearn.datasets import load_boston\n",
        "import numpy as np\n",
        "import torch\n",
        "from torch import nn\n",
        "\n",
        "\n",
        "\n",
        "np.random.seed(123)\n",
        "torch.random.manual_seed(123)\n",
        "\n",
        "boston=load_boston()\n",
        "X=boston.data\n",
        "y=boston.target\n",
        "\n",
        "idx=np.random.permutation(len(X))\n",
        "\n",
        "X=X[idx]\n",
        "y=y[idx]\n",
        "\n",
        "\n",
        "X_training=torch.Tensor(X[50:])\n",
        "Y_training=torch.Tensor(y[50:])\n",
        "\n",
        "X_testing=torch.Tensor(X[:50])\n",
        "Y_testing=torch.Tensor(y[:50])"
      ],
      "execution_count": null,
      "outputs": []
    },
    {
      "cell_type": "code",
      "metadata": {
        "id": "Z2KPkG1_9-_X"
      },
      "source": [
        "class LinearRegressor(nn.Module):\n",
        "\n",
        "  def __init__(self,in_size,out_size):\n",
        "\n",
        "      super(LinearRegressor,self).__init__()\n",
        "\n",
        "      self.linear=nn.Linear(in_size,out_size)\n",
        "\n",
        "  def forward(self,x):\n",
        "\n",
        "      result=self.linear(x)\n",
        "      return result\n"
      ],
      "execution_count": null,
      "outputs": []
    },
    {
      "cell_type": "code",
      "metadata": {
        "colab": {
          "base_uri": "https://localhost:8080/"
        },
        "id": "ZQLikxT__gx7",
        "outputId": "ef5a14aa-4c78-4a2f-e029-72cc8c8840eb"
      },
      "source": [
        "from torch.utils.tensorboard import SummaryWriter\n",
        "\n",
        "\n",
        "lr=0.01\n",
        "epochs=300\n",
        "\n",
        "writer=SummaryWriter('logs/linear_regressor_1')\n",
        "\n",
        "means=X_training.mean(0)\n",
        "stds=X_training.std(0)\n",
        "\n",
        "\n",
        "X_training_norm=(X_training-means)/stds\n",
        "X_testing_norm=(X_testing-means)/stds\n",
        "\n",
        "reg=LinearRegressor(13,1)\n",
        "criterion=nn.MSELoss()\n",
        "\n",
        "optimizer=torch.optim.SGD(reg.parameters(),lr=lr)\n",
        "\n",
        "for e in range(epochs):\n",
        "  reg.train()\n",
        "  output=reg(X_training_norm)\n",
        "  l=criterion(output.view(-1),Y_training)\n",
        "\n",
        "  writer.add_scalar('loss/train',l.item(),global_step=e)\n",
        "  l.backward()\n",
        "\n",
        "  optimizer.step()\n",
        "  optimizer.zero_grad()\n",
        "\n",
        "  reg.eval()\n",
        "\n",
        "  with torch.set_grad_enabled(False):\n",
        "      y_test=reg(X_testing_norm)\n",
        "      l=criterion(y_test.view(-1),Y_testing)\n",
        "      writer.add_scalar('loss/test',l.item(),global_step=e)\n",
        "\n",
        "\n",
        "preds_train=reg(X_training_norm)\n",
        "preds_testing=reg(X_testing_norm)\n",
        "\n",
        "def MSE(predictions,gt):\n",
        "\n",
        "  assert predictions.shape==gt.shape\n",
        "  return ((predictions-gt)**2).mean()\n",
        "\n",
        "print(\"MSE Train: {:0.2f}\".format(MSE(preds_train.view(-1),Y_training)))\n",
        "print(\"MSE Test:  {:0.2f}\".format(MSE(preds_testing.view(-1),Y_testing)))\n",
        "\n",
        "\n",
        "def RMSE(predictions,gt):\n",
        "  #detach necessario!\n",
        "  return np.sqrt(MSE(predictions.detach(),gt))\n",
        "\n",
        "\n",
        "print(\"RMSE Train: {:0.2f}\".format(RMSE(preds_train.view(-1),Y_training)))\n",
        "print(\"RMSE Test:  {:0.2f}\".format(RMSE(preds_testing.view(-1),Y_testing)))\n",
        "\n",
        "\n",
        "\n",
        "def MAE(predictions,gt):\n",
        "  #detach necessario!\n",
        "  assert predictions.shape==gt.shape\n",
        "  return (predictions-gt).abs().mean()\n",
        "\n",
        "\n",
        "print(\"MAE Train: {:0.2f}\".format(MAE(preds_train.view(-1),Y_training)))\n",
        "print(\"MAE Test:  {:0.2f}\".format(MAE(preds_testing.view(-1),Y_testing)))\n",
        "\n",
        "\n"
      ],
      "execution_count": null,
      "outputs": [
        {
          "output_type": "stream",
          "text": [
            "MSE Train: 20.52\n",
            "MSE Test:  44.04\n",
            "RMSE Train: 4.53\n",
            "RMSE Test:  6.64\n",
            "MAE Train: 3.08\n",
            "MAE Test:  4.31\n"
          ],
          "name": "stdout"
        }
      ]
    },
    {
      "cell_type": "code",
      "metadata": {
        "colab": {
          "base_uri": "https://localhost:8080/",
          "height": 332
        },
        "id": "kT3VieLbBtXV",
        "outputId": "a07c62f5-22a8-44d4-9a02-37e2ceaa857e"
      },
      "source": [
        "## REC\n",
        "from matplotlib import pyplot as plt\n",
        "\n",
        "def rec_curve(pred,gt):\n",
        "\n",
        "  assert pred.shape==gt.shape\n",
        "\n",
        "  errors=np.abs(np.array((pred.detach()-gt)))\n",
        "  tolerance=sorted(np.unique(errors))\n",
        "  correct=[]\n",
        "\n",
        "  for t in tolerance:\n",
        "    correct.append((errors<=t).mean())\n",
        "\n",
        "  AUC=np.trapz(correct,tolerance)\n",
        "  tot_area=np.max(tolerance)\n",
        "  AOC=tot_area-AUC\n",
        "\n",
        "  return tolerance,correct,AOC\n",
        "\n",
        "boston_linear_regressor_rec=rec_curve(preds_testing.view(-1),Y_testing)\n",
        "plt.plot(boston_linear_regressor_rec[0],boston_linear_regressor_rec[1])\n",
        "plt.legend(['Boston lin regr AOC: %0.2f' %boston_linear_regressor_rec[2]])\n",
        "plt.xlabel('tolerance')\n",
        "plt.ylabel('% record test set classificati ')\n",
        "plt.grid()\n",
        "plt.show()\n",
        "\n",
        "print(\"80 % del test set è stato classificato con una soglia di tolleranza di 5(mila dollari) \")\n",
        "id=(np.argwhere(np.array(boston_linear_regressor_rec[1])==0.8)).reshape(-1)\n",
        "print(boston_linear_regressor_rec[0][int(id)])\n",
        "print(boston_linear_regressor_rec[1][int(id)])\n",
        "\n",
        "# print(boston_linear_regressor_rec[1])"
      ],
      "execution_count": null,
      "outputs": [
        {
          "output_type": "display_data",
          "data": {
            "image/png": "[encoded data removed]",
            "text/plain": [
              "<Figure size 432x288 with 1 Axes>"
            ]
          },
          "metadata": {
            "tags": [],
            "needs_background": "light"
          }
        },
        {
          "output_type": "stream",
          "text": [
            "80 % del test set è stato classificato con una soglia di tolleranza di 5(mila dollari) \n",
            "5.3446846\n",
            "0.8\n"
          ],
          "name": "stdout"
        }
      ]
    },
    {
      "cell_type": "code",
      "metadata": {
        "colab": {
          "base_uri": "https://localhost:8080/",
          "height": 264
        },
        "id": "sDF0UTJ3J5kS",
        "outputId": "bd0eabcb-e333-49fa-afed-4f6fa2100d30"
      },
      "source": [
        "boston_linear_regressor_training_rec = rec_curve(preds_train.view(-1),Y_training)\n",
        "boston_linear_regressor_testing_rec = rec_curve(preds_testing.view(-1),Y_testing)\n",
        "plt.plot(boston_linear_regressor_training_rec[0], boston_linear_regressor_training_rec[1])\n",
        "plt.plot(boston_linear_regressor_testing_rec[0], boston_linear_regressor_testing_rec[1])\n",
        "plt.legend(['Boston Linear Regressor [train]. AOC: %0.2f'%boston_linear_regressor_training_rec[2],'Boston Linear Regressor [test]. AOC: %0.2f'%boston_linear_regressor_testing_rec[2]])\n",
        "plt.grid()\n",
        "plt.show()"
      ],
      "execution_count": null,
      "outputs": [
        {
          "output_type": "display_data",
          "data": {
            "image/png": "[encoded data removed]",
            "text/plain": [
              "<Figure size 432x288 with 1 Axes>"
            ]
          },
          "metadata": {
            "tags": [],
            "needs_background": "light"
          }
        }
      ]
    },
    {
      "cell_type": "code",
      "metadata": {
        "colab": {
          "base_uri": "https://localhost:8080/"
        },
        "id": "eKkjF-A6KVG4",
        "outputId": "70ea243c-884a-4675-f798-6a9fcf9de49b"
      },
      "source": [
        "from sklearn.datasets import load_breast_cancer\n",
        "\n",
        "\n",
        "dataset=load_breast_cancer()\n",
        "X=dataset.data\n",
        "y=dataset.target\n",
        "\n",
        "print(X.shape,y.shape)\n"
      ],
      "execution_count": null,
      "outputs": [
        {
          "output_type": "stream",
          "text": [
            "(569, 30) (569,)\n"
          ],
          "name": "stdout"
        }
      ]
    },
    {
      "cell_type": "code",
      "metadata": {
        "id": "jgampaDTKVKC"
      },
      "source": [
        "##LOG\n",
        "\n",
        "np.random.seed(1234)\n",
        "torch.random.manual_seed(1234)\n",
        "\n",
        "idx=np.random.permutation(len(X))\n",
        "\n",
        "X=X[idx]\n",
        "y=y[idx]\n",
        "\n",
        "\n",
        "X_training = torch.Tensor(X[100:])\n",
        "Y_training = torch.Tensor(y[100:])\n",
        "X_testing = torch.Tensor(X[:100])\n",
        "Y_testing = torch.Tensor(y[:100])\n",
        "\n",
        "\n",
        "X_mean = X_training.mean(0)\n",
        "X_std = X_training.std(0)\n",
        "X_training_norm = (X_training-X_mean)/X_std\n",
        "X_testing_norm = (X_testing-X_mean)/X_std\n"
      ],
      "execution_count": null,
      "outputs": []
    },
    {
      "cell_type": "code",
      "metadata": {
        "colab": {
          "base_uri": "https://localhost:8080/"
        },
        "id": "9eWSRHlbKVMn",
        "outputId": "3731e95a-477f-4a85-cb67-26f20029bb2e"
      },
      "source": [
        "lin_reg=nn.Linear(30,1)\n",
        "z = lin_reg(X_training_norm)\n",
        "print(z[:10]) #stampiamo i primi 10 valori predetti\n",
        "\n",
        "print(z.min())\n",
        "print(z.max())\n",
        "\n",
        "\n",
        "def logistic(z):\n",
        "  return 1./(1+torch.exp(-z))"
      ],
      "execution_count": null,
      "outputs": [
        {
          "output_type": "stream",
          "text": [
            "tensor([[-0.1096],\n",
            "        [ 0.0380],\n",
            "        [ 0.2178],\n",
            "        [ 0.3410],\n",
            "        [ 0.1903],\n",
            "        [ 0.4142],\n",
            "        [-0.0980],\n",
            "        [-0.0238],\n",
            "        [ 0.1587],\n",
            "        [ 0.1500]], grad_fn=<SliceBackward>)\n",
            "tensor(-0.9687, grad_fn=<MinBackward1>)\n",
            "tensor(1.2384, grad_fn=<MaxBackward1>)\n"
          ],
          "name": "stdout"
        }
      ]
    },
    {
      "cell_type": "code",
      "metadata": {
        "colab": {
          "base_uri": "https://localhost:8080/"
        },
        "id": "lvOVFOlXKVPL",
        "outputId": "ea2558a5-c171-42c2-8f56-b4ec6b525067"
      },
      "source": [
        "p = logistic(z)\n",
        "print(p[:10])"
      ],
      "execution_count": null,
      "outputs": [
        {
          "output_type": "stream",
          "text": [
            "tensor([[0.4726],\n",
            "        [0.5095],\n",
            "        [0.5542],\n",
            "        [0.5844],\n",
            "        [0.5474],\n",
            "        [0.6021],\n",
            "        [0.4755],\n",
            "        [0.4941],\n",
            "        [0.5396],\n",
            "        [0.5374]], grad_fn=<SliceBackward>)\n"
          ],
          "name": "stdout"
        }
      ]
    },
    {
      "cell_type": "code",
      "metadata": {
        "colab": {
          "base_uri": "https://localhost:8080/"
        },
        "id": "aa4JzKwwKVR2",
        "outputId": "f270ca6f-81f8-4019-fa0a-03ba076e4803"
      },
      "source": [
        "sigmoid=nn.Sigmoid()\n",
        "p2=sigmoid(z)\n",
        "print(p2.min())\n",
        "print(p2.max())\n",
        "\n",
        "def loss(p,y):\n",
        "  return (-y*torch.log(p)-(1-y)*torch.log(1-p)).mean()"
      ],
      "execution_count": null,
      "outputs": [
        {
          "output_type": "stream",
          "text": [
            "tensor(0.2751, grad_fn=<MinBackward1>)\n",
            "tensor(0.7753, grad_fn=<MaxBackward1>)\n"
          ],
          "name": "stdout"
        }
      ]
    },
    {
      "cell_type": "code",
      "metadata": {
        "colab": {
          "base_uri": "https://localhost:8080/"
        },
        "id": "d4Hxj_lNKVUS",
        "outputId": "38c83da4-e29b-4544-8c22-a9fa1025ad5e"
      },
      "source": [
        "print(loss(p,Y_training.view(-1,1)))\n",
        "loss = nn.BCELoss()\n",
        "print(loss(p,Y_training.view(-1,1)))"
      ],
      "execution_count": null,
      "outputs": [
        {
          "output_type": "stream",
          "text": [
            "tensor(0.6579, grad_fn=<MeanBackward0>)\n",
            "tensor(0.6579, grad_fn=<BinaryCrossEntropyBackward>)\n"
          ],
          "name": "stdout"
        }
      ]
    },
    {
      "cell_type": "code",
      "metadata": {
        "colab": {
          "base_uri": "https://localhost:8080/"
        },
        "id": "ihOYcDz4KVWr",
        "outputId": "2b0adc29-657f-4d1c-82cc-89dc66854d3b"
      },
      "source": [
        "class LogisticRegressor(nn.Module):\n",
        "\n",
        "  def __init__(self,in_features):\n",
        "\n",
        "    super(LogisticRegressor,self).__init__()\n",
        "    self.linear=nn.Linear(in_features,1)\n",
        "    self.logistic=nn.Sigmoid()\n",
        "\n",
        "\n",
        "  def forward(self,x):\n",
        "    logits=self.linear(x)\n",
        "    return self.logistic(logits)\n",
        "    \n",
        "\n",
        "\n",
        "lr=0.01\n",
        "epochs=500\n",
        "\n",
        "means = X_training.mean(0)\n",
        "stds = X_training.std(0)\n",
        "\n",
        "X_training_norm = (X_training-means)/stds\n",
        "X_testing_norm = (X_testing-means)/stds\n",
        "#Passo 2: inizializziamo il modello\n",
        "regressor = LogisticRegressor(30)\n",
        "loss = nn.BCELoss()\n",
        "sgd = torch.optim.SGD(regressor.parameters(), lr)\n",
        "\n",
        "\n",
        "for e in range(epochs):\n",
        "\n",
        "  regressor.train()\n",
        "  p=regressor(X_training_norm)\n",
        "\n",
        "  l=loss(p,Y_training.view(-1,1))\n",
        "  l.backward()\n",
        "\n",
        "  sgd.step()\n",
        "  sgd.zero_grad()\n",
        "\n",
        "  regressor.eval()\n",
        "  with torch.set_grad_enabled(False):\n",
        "\n",
        "      p=regressor(X_testing_norm)\n",
        "      l=loss(p,Y_testing.view(-1,1))\n",
        "\n",
        "\n",
        "\n",
        "p_test=regressor(X_testing_norm)\n",
        "print(loss(p_test,Y_testing.view(-1,1)))\n",
        "\n",
        "pr_train=regressor(X_training_norm)\n",
        "pr_test=regressor(X_testing_norm)\n",
        "\n",
        "pred_train=pr_train>=0.5\n",
        "pred_test=pr_test>=0.5\n",
        "\n",
        "\n",
        "\n",
        "def accuracy(pred,gt):\n",
        "  correct=pred.view(-1).byte()==gt.view(-1).byte()\n",
        "\n",
        "  return float(correct.sum())/len(correct)\n",
        "\n",
        "\n",
        "print(\"Accuracy di training: {:0.2f}\".format(accuracy(pred_train,Y_training)))\n",
        "print(\"Accuracy di test: {:0.2f}\".format(accuracy(pred_test,Y_testing)))\n",
        "pred=pred_train\n",
        "# print(pred)\n",
        "print(pred.view(-1))\n",
        "print(pred.view(-1).shape)\n",
        "\n",
        "print(pred.view(-1).byte())\n"
      ],
      "execution_count": null,
      "outputs": [
        {
          "output_type": "stream",
          "text": [
            "tensor(0.1860, grad_fn=<BinaryCrossEntropyBackward>)\n",
            "Accuracy di training: 0.97\n",
            "Accuracy di test: 0.93\n",
            "tensor([False, False,  True,  True, False,  True,  True, False, False,  True,\n",
            "        False,  True,  True, False,  True,  True,  True, False,  True, False,\n",
            "         True,  True,  True,  True, False,  True, False, False,  True,  True,\n",
            "        False,  True, False,  True,  True,  True,  True,  True,  True, False,\n",
            "         True, False, False,  True, False,  True,  True,  True, False, False,\n",
            "         True,  True, False,  True,  True, False,  True, False, False,  True,\n",
            "         True,  True, False,  True,  True, False,  True,  True,  True,  True,\n",
            "        False,  True,  True, False, False,  True,  True,  True,  True, False,\n",
            "         True,  True,  True, False,  True, False,  True,  True,  True,  True,\n",
            "        False,  True,  True, False, False,  True, False, False,  True, False,\n",
            "         True,  True,  True, False,  True,  True, False,  True,  True,  True,\n",
            "         True, False,  True,  True,  True,  True,  True,  True, False,  True,\n",
            "         True, False, False, False,  True, False,  True, False,  True,  True,\n",
            "         True,  True,  True,  True, False,  True, False,  True,  True,  True,\n",
            "        False, False, False,  True,  True,  True,  True,  True,  True,  True,\n",
            "        False,  True,  True,  True,  True, False, False, False, False,  True,\n",
            "        False,  True,  True, False, False,  True,  True,  True, False,  True,\n",
            "         True,  True,  True, False,  True,  True, False, False, False,  True,\n",
            "         True,  True,  True,  True,  True,  True,  True,  True,  True, False,\n",
            "        False, False, False, False,  True,  True, False,  True,  True, False,\n",
            "         True, False, False, False,  True,  True,  True, False, False,  True,\n",
            "        False, False,  True,  True, False,  True, False, False,  True,  True,\n",
            "         True, False,  True,  True, False,  True,  True,  True,  True,  True,\n",
            "         True,  True,  True, False,  True,  True,  True, False,  True, False,\n",
            "         True, False,  True,  True, False,  True, False, False,  True, False,\n",
            "         True, False,  True,  True,  True,  True,  True,  True, False,  True,\n",
            "         True,  True, False,  True,  True, False,  True,  True,  True,  True,\n",
            "         True,  True, False,  True, False,  True,  True,  True,  True, False,\n",
            "        False,  True,  True,  True,  True, False,  True, False,  True,  True,\n",
            "        False, False,  True, False,  True,  True,  True, False, False,  True,\n",
            "         True,  True, False,  True, False, False,  True,  True,  True,  True,\n",
            "        False,  True, False, False, False,  True, False, False, False,  True,\n",
            "         True,  True,  True, False,  True, False, False, False,  True, False,\n",
            "         True,  True, False, False,  True, False, False,  True, False,  True,\n",
            "        False,  True, False,  True,  True, False,  True,  True,  True,  True,\n",
            "         True,  True,  True,  True,  True,  True, False,  True, False, False,\n",
            "        False, False,  True, False,  True,  True,  True,  True, False, False,\n",
            "        False, False,  True, False,  True,  True, False,  True, False,  True,\n",
            "         True,  True, False,  True,  True,  True, False,  True, False, False,\n",
            "        False, False, False,  True, False, False,  True,  True,  True, False,\n",
            "        False, False,  True,  True, False,  True,  True,  True,  True,  True,\n",
            "         True,  True,  True, False, False,  True,  True,  True, False,  True,\n",
            "        False,  True, False,  True, False, False,  True,  True,  True, False,\n",
            "         True, False,  True, False,  True,  True,  True, False,  True,  True,\n",
            "         True,  True, False, False,  True,  True,  True,  True,  True,  True,\n",
            "         True,  True,  True,  True,  True,  True,  True,  True,  True,  True,\n",
            "         True, False,  True, False,  True, False,  True, False,  True])\n",
            "torch.Size([469])\n",
            "tensor([0, 0, 1, 1, 0, 1, 1, 0, 0, 1, 0, 1, 1, 0, 1, 1, 1, 0, 1, 0, 1, 1, 1, 1,\n",
            "        0, 1, 0, 0, 1, 1, 0, 1, 0, 1, 1, 1, 1, 1, 1, 0, 1, 0, 0, 1, 0, 1, 1, 1,\n",
            "        0, 0, 1, 1, 0, 1, 1, 0, 1, 0, 0, 1, 1, 1, 0, 1, 1, 0, 1, 1, 1, 1, 0, 1,\n",
            "        1, 0, 0, 1, 1, 1, 1, 0, 1, 1, 1, 0, 1, 0, 1, 1, 1, 1, 0, 1, 1, 0, 0, 1,\n",
            "        0, 0, 1, 0, 1, 1, 1, 0, 1, 1, 0, 1, 1, 1, 1, 0, 1, 1, 1, 1, 1, 1, 0, 1,\n",
            "        1, 0, 0, 0, 1, 0, 1, 0, 1, 1, 1, 1, 1, 1, 0, 1, 0, 1, 1, 1, 0, 0, 0, 1,\n",
            "        1, 1, 1, 1, 1, 1, 0, 1, 1, 1, 1, 0, 0, 0, 0, 1, 0, 1, 1, 0, 0, 1, 1, 1,\n",
            "        0, 1, 1, 1, 1, 0, 1, 1, 0, 0, 0, 1, 1, 1, 1, 1, 1, 1, 1, 1, 1, 0, 0, 0,\n",
            "        0, 0, 1, 1, 0, 1, 1, 0, 1, 0, 0, 0, 1, 1, 1, 0, 0, 1, 0, 0, 1, 1, 0, 1,\n",
            "        0, 0, 1, 1, 1, 0, 1, 1, 0, 1, 1, 1, 1, 1, 1, 1, 1, 0, 1, 1, 1, 0, 1, 0,\n",
            "        1, 0, 1, 1, 0, 1, 0, 0, 1, 0, 1, 0, 1, 1, 1, 1, 1, 1, 0, 1, 1, 1, 0, 1,\n",
            "        1, 0, 1, 1, 1, 1, 1, 1, 0, 1, 0, 1, 1, 1, 1, 0, 0, 1, 1, 1, 1, 0, 1, 0,\n",
            "        1, 1, 0, 0, 1, 0, 1, 1, 1, 0, 0, 1, 1, 1, 0, 1, 0, 0, 1, 1, 1, 1, 0, 1,\n",
            "        0, 0, 0, 1, 0, 0, 0, 1, 1, 1, 1, 0, 1, 0, 0, 0, 1, 0, 1, 1, 0, 0, 1, 0,\n",
            "        0, 1, 0, 1, 0, 1, 0, 1, 1, 0, 1, 1, 1, 1, 1, 1, 1, 1, 1, 1, 0, 1, 0, 0,\n",
            "        0, 0, 1, 0, 1, 1, 1, 1, 0, 0, 0, 0, 1, 0, 1, 1, 0, 1, 0, 1, 1, 1, 0, 1,\n",
            "        1, 1, 0, 1, 0, 0, 0, 0, 0, 1, 0, 0, 1, 1, 1, 0, 0, 0, 1, 1, 0, 1, 1, 1,\n",
            "        1, 1, 1, 1, 1, 0, 0, 1, 1, 1, 0, 1, 0, 1, 0, 1, 0, 0, 1, 1, 1, 0, 1, 0,\n",
            "        1, 0, 1, 1, 1, 0, 1, 1, 1, 1, 0, 0, 1, 1, 1, 1, 1, 1, 1, 1, 1, 1, 1, 1,\n",
            "        1, 1, 1, 1, 1, 0, 1, 0, 1, 0, 1, 0, 1], dtype=torch.uint8)\n"
          ],
          "name": "stdout"
        }
      ]
    },
    {
      "cell_type": "code",
      "metadata": {
        "colab": {
          "base_uri": "https://localhost:8080/"
        },
        "id": "MCwH_S9VSOK6",
        "outputId": "8f3b0142-3769-470d-bde7-a51ec6972aa2"
      },
      "source": [
        "189*91/100"
      ],
      "execution_count": null,
      "outputs": [
        {
          "output_type": "execute_result",
          "data": {
            "text/plain": [
              "171.99"
            ]
          },
          "metadata": {
            "tags": []
          },
          "execution_count": 389
        }
      ]
    },
    {
      "cell_type": "code",
      "metadata": {
        "id": "yTovzqEISONi"
      },
      "source": [
        "def loss2(z,y):\n",
        "  return (y*torch.log(1+torch.exp(-z))+(1-y)*torch.log(1+torch.exp(z))).mean()"
      ],
      "execution_count": null,
      "outputs": []
    },
    {
      "cell_type": "code",
      "metadata": {
        "colab": {
          "base_uri": "https://localhost:8080/"
        },
        "id": "VAo4c2ZNSOQo",
        "outputId": "0c5d9303-0355-460a-f5b7-e2f9c22ea953"
      },
      "source": [
        "class LogisticRegressor(nn.Module):\n",
        "  def __init__(self,in_features):\n",
        "      super(LogisticRegressor,self).__init__()\n",
        "      self.linear=nn.Linear(in_features,1)\n",
        "\n",
        "  def forward(self,x):\n",
        "    logits=self.linear(x)\n",
        "    return logits\n",
        "\n",
        "\n",
        "regressor=LogisticRegressor(30)\n",
        "logistic=nn.Sigmoid()\n",
        "z=regressor(X_training_norm)\n",
        "p=logistic(z)\n",
        "\n",
        "loss_stable=nn.BCEWithLogitsLoss()\n",
        "l_1=loss_stable(z,Y_training.view(-1,1))\n",
        "l_2=loss2(z,Y_training.view(-1,1))\n",
        "print(l_1,l_2)"
      ],
      "execution_count": null,
      "outputs": [
        {
          "output_type": "stream",
          "text": [
            "tensor(0.5498, grad_fn=<BinaryCrossEntropyWithLogitsBackward>) tensor(0.5498, grad_fn=<MeanBackward0>)\n"
          ],
          "name": "stdout"
        }
      ]
    },
    {
      "cell_type": "code",
      "metadata": {
        "colab": {
          "base_uri": "https://localhost:8080/"
        },
        "id": "GC1TQ5mHb50X",
        "outputId": "7dc96cb9-9a6b-4163-d3a4-4210a0187ff2"
      },
      "source": [
        "class LogisticRegressor(nn.Module):\n",
        "\n",
        "  def __init__(self,in_features):\n",
        "\n",
        "    super(LogisticRegressor,self).__init__()\n",
        "    self.linear=nn.Linear(in_features,1)\n",
        "    self.logistic=nn.Sigmoid()\n",
        "\n",
        "\n",
        "  def forward(self,x):\n",
        "    logits=self.linear(x)\n",
        "    return self.logistic(logits)\n",
        "    \n",
        "\n",
        "\n",
        "lr=0.01\n",
        "epochs=500\n",
        "\n",
        "\n",
        "\n",
        "X_training = torch.Tensor(X[100:])\n",
        "Y_training = torch.Tensor(y[100:])\n",
        "X_testing = torch.Tensor(X[:100])\n",
        "Y_testing = torch.Tensor(y[:100])\n",
        "\n",
        "\n",
        "\n",
        "means = X_training.mean(0)\n",
        "stds = X_training.std(0)\n",
        "\n",
        "X_training_norm = (X_training-means)/stds\n",
        "X_testing_norm = (X_testing-means)/stds\n",
        "#Passo 2: inizializziamo il modello\n",
        "regressor = LogisticRegressor(30)\n",
        "loss = nn.BCEWithLogitsLoss()\n",
        "sgd = torch.optim.SGD(regressor.parameters(), lr,weight_decay=0.001,momentum=0.9)\n",
        "\n",
        "\n",
        "for e in range(epochs):\n",
        "\n",
        "  regressor.train()\n",
        "  p=regressor(X_training_norm)\n",
        "\n",
        "  l=loss(p,Y_training.view(-1,1))\n",
        "  l.backward()\n",
        "\n",
        "  sgd.step()\n",
        "  sgd.zero_grad()\n",
        "\n",
        "  regressor.eval()\n",
        "  with torch.set_grad_enabled(False):\n",
        "\n",
        "      p=regressor(X_testing_norm)\n",
        "      l=loss(p,Y_testing.view(-1,1))\n",
        "\n",
        "\n",
        "\n",
        "p_test=regressor(X_testing_norm)\n",
        "print(loss(p_test,Y_testing.view(-1,1)))\n",
        "\n",
        "pr_train=regressor(X_training_norm)\n",
        "pr_test=regressor(X_testing_norm)\n",
        "print(X_training_norm.shape,Y_training.shape)\n",
        "pred_train=pr_train>=0.5\n",
        "pred_test=pr_test>=0.5\n",
        "\n",
        "\n",
        "\n",
        "def accuracy(pred,gt):\n",
        "  correct=pred.view(-1).byte()==gt.view(-1).byte()\n",
        "\n",
        "  return float(correct.sum())/len(correct)\n",
        "\n",
        "\n",
        "print(\"acc train\".format(accuracy(pred_train,Y_training)))\n",
        "\n",
        "# print(pred)\n"
      ],
      "execution_count": null,
      "outputs": [
        {
          "output_type": "stream",
          "text": [
            "tensor(0.4989, grad_fn=<BinaryCrossEntropyWithLogitsBackward>)\n",
            "torch.Size([469, 30]) torch.Size([469])\n",
            "acc train\n"
          ],
          "name": "stdout"
        }
      ]
    },
    {
      "cell_type": "code",
      "metadata": {
        "colab": {
          "base_uri": "https://localhost:8080/"
        },
        "id": "JKIRkJNKb6Zm",
        "outputId": "a71a5714-bc37-4b06-cdb8-4809c0c7fa95"
      },
      "source": [
        "from sklearn.metrics import accuracy_score\n",
        "acc_training = accuracy_score(Y_training,pred_train)\n",
        "acc_testing = accuracy_score(Y_testing,pred_test)\n",
        "print(\"Accuracy di training: {:0.2f}\".format(acc_training))\n",
        "print(\"Accuracy di test: {:0.2f}\".format(acc_testing))"
      ],
      "execution_count": null,
      "outputs": [
        {
          "output_type": "stream",
          "text": [
            "Accuracy di training: 0.97\n",
            "Accuracy di test: 0.94\n"
          ],
          "name": "stdout"
        }
      ]
    },
    {
      "cell_type": "code",
      "metadata": {
        "colab": {
          "base_uri": "https://localhost:8080/"
        },
        "id": "Ki7BE25tb6cI",
        "outputId": "cb21cbe3-2d72-45e5-b23b-01ce8d2a02a5"
      },
      "source": [
        "from sklearn.metrics import confusion_matrix\n",
        "cm_training = confusion_matrix(Y_training,pred_train)\n",
        "cm_testing = confusion_matrix(Y_testing,pred_test)\n",
        "print(cm_training)\n",
        "print(cm_testing)"
      ],
      "execution_count": null,
      "outputs": [
        {
          "output_type": "stream",
          "text": [
            "[[171   4]\n",
            " [  9 285]]\n",
            "[[33  4]\n",
            " [ 2 61]]\n"
          ],
          "name": "stdout"
        }
      ]
    },
    {
      "cell_type": "code",
      "metadata": {
        "colab": {
          "base_uri": "https://localhost:8080/"
        },
        "id": "Uv78Fxkob6fi",
        "outputId": "68469180-da67-4881-cba2-4bdb963afaaa"
      },
      "source": [
        "cm_testing = cm_testing.astype(float)/cm_testing.sum(1).reshape(-1,1)\n",
        "print(cm_testing)"
      ],
      "execution_count": null,
      "outputs": [
        {
          "output_type": "stream",
          "text": [
            "[[0.89189189 0.10810811]\n",
            " [0.03174603 0.96825397]]\n"
          ],
          "name": "stdout"
        }
      ]
    },
    {
      "cell_type": "code",
      "metadata": {
        "colab": {
          "base_uri": "https://localhost:8080/"
        },
        "id": "Whyo813qgOzD",
        "outputId": "698a3780-3f4e-4794-b796-c4e719e20421"
      },
      "source": [
        "from sklearn.metrics import precision_score, recall_score\n",
        "precision_training = precision_score(Y_training, pred_train)\n",
        "precision_test = precision_score(Y_testing, pred_test)\n",
        "recall_training = recall_score(Y_training, pred_train)\n",
        "recall_test = recall_score(Y_testing, pred_test)\n",
        "print(precision_training, recall_training)\n",
        "print(precision_test, recall_test)"
      ],
      "execution_count": null,
      "outputs": [
        {
          "output_type": "stream",
          "text": [
            "0.986159169550173 0.9693877551020408\n",
            "0.9384615384615385 0.9682539682539683\n"
          ],
          "name": "stdout"
        }
      ]
    },
    {
      "cell_type": "code",
      "metadata": {
        "colab": {
          "base_uri": "https://localhost:8080/"
        },
        "id": "LjQc17z9gO31",
        "outputId": "2d9e8ae0-8030-479a-b3eb-8bfaa01aac63"
      },
      "source": [
        "from sklearn.metrics import f1_score\n",
        "scores_training = f1_score(Y_training,pred_train, average=None)\n",
        "scores_testing = f1_score(Y_testing,pred_test, average=None)\n",
        "print(scores_training)\n",
        "print(scores_testing)\n",
        "print(scores_training.mean())\n",
        "print(scores_testing.mean())"
      ],
      "execution_count": null,
      "outputs": [
        {
          "output_type": "stream",
          "text": [
            "[0.96338028 0.97770154]\n",
            "[0.91666667 0.953125  ]\n",
            "0.9705409127147102\n",
            "0.9348958333333334\n"
          ],
          "name": "stdout"
        }
      ]
    },
    {
      "cell_type": "code",
      "metadata": {
        "id": "v7SBnB7rgO7P"
      },
      "source": [
        "class LinearRegressor(nn.Module):\n",
        "\n",
        "  def __init__(self,in_size,out_size):\n",
        "\n",
        "      super(LinearRegressor,self).__init__()\n",
        "\n",
        "      self.linear=nn.Linear(in_size,out_size)\n",
        "\n",
        "  def forward(self,x):\n",
        "\n",
        "      result=self.linear(x)\n",
        "      return result\n",
        "\n",
        "\n",
        "\n"
      ],
      "execution_count": null,
      "outputs": []
    },
    {
      "cell_type": "code",
      "metadata": {
        "id": "p_-3TCf9gO_l",
        "colab": {
          "base_uri": "https://localhost:8080/",
          "height": 835
        },
        "outputId": "94684c90-17a3-476c-9ac0-17c9d5e2ae1d"
      },
      "source": [
        "\n",
        "\n",
        "lr=0.000003\n",
        "epochs=1000\n",
        "\n",
        "\n",
        "points=1000\n",
        "X_poly=np.random.randn(points,1)\n",
        "\n",
        "X_training=torch.Tensor(X_poly)#,X_poly**2]))\n",
        "Y_training=torch.Tensor(3*X_training)\n",
        "\n",
        "reg=LinearRegressor(1,1)\n",
        "\n",
        "writer=SummaryWriter('logs/linear_regressor_1')\n",
        "\n",
        "min=torch.min(X_training)\n",
        "max=torch.max(X_training)\n",
        "\n",
        "\n",
        "stds=X_training.std(0)\n",
        "\n",
        "\n",
        "X_training_norm=(X_training-min)/(max-min)\n",
        "Y_training=torch.Tensor(-3*X_training_norm)\n",
        "\n",
        "plt.scatter(X_training_norm[:,0],Y_training)\n",
        "\n",
        "#X_testing_norm=(X_testing-means)/stds\n",
        "\n",
        "criterion=nn.MSELoss()\n",
        "\n",
        "optimizer=torch.optim.SGD(reg.parameters(),lr=lr)\n",
        "\n",
        "for name, param in reg.named_parameters():\n",
        "    if param.requires_grad:\n",
        "        print(name, param.data)\n",
        "for e in range(epochs):\n",
        "  reg.train()\n",
        "  output=reg(X_training)\n",
        "  l=criterion(output.view(-1),Y_training)\n",
        "\n",
        "  writer.add_scalar('loss/train',l.item(),global_step=e)\n",
        "  l.backward()\n",
        "\n",
        "  optimizer.step()\n",
        "  optimizer.zero_grad()\n",
        "\n",
        "  # reg.eval()\n",
        "\n",
        "  # with torch.set_grad_enabled(False):\n",
        "  #     y_test=reg(X_testing_norm)\n",
        "  #     l=criterion(y_test.view(-1),Y_testing)\n",
        "  #     writer.add_scalar('loss/test',l.item(),global_step=e)\n",
        "\n",
        "\n",
        "preds_train=reg(X_training)\n",
        "#preds_testing=reg(X_testing_norm)\n",
        "\n",
        "def MSE(predictions,gt):\n",
        "  #print(predictions.shape,gt.shape)\n",
        "  #assert predictions.shape==gt.shape\n",
        "  return ((predictions-gt)**2).mean()\n",
        "\n",
        "print(\"MSE Train: {:0.2f}\".format(MSE(preds_train.view(-1),Y_training)))\n",
        "#print(\"MSE Test:  {:0.2f}\".format(MSE(preds_testing.view(-1),Y_testing)))\n",
        "\n",
        "\n",
        "def RMSE(predictions,gt):\n",
        "  #detach necessario!\n",
        "  return np.sqrt(MSE(predictions.detach(),gt))\n",
        "\n",
        "\n",
        "print(\"RMSE Train: {:0.2f}\".format(RMSE(preds_train.view(-1),Y_training)))\n",
        "#print(\"RMSE Test:  {:0.2f}\".format(RMSE(preds_testing.view(-1),Y_testing)))\n",
        "\n",
        "\n",
        "\n",
        "def MAE(predictions,gt):\n",
        "  #detach necessario!\n",
        "  #assert predictions.shape==gt.shape\n",
        "  return (predictions-gt).abs().mean()\n",
        "\n",
        "print(reg.parameters())\n",
        "print(\"MAE Train: {:0.2f}\".format(MAE(preds_train.view(-1),Y_training)))\n",
        "#print(\"MAE Test:  {:0.2f}\".format(MAE(preds_testing.view(-1),Y_testing)))\n",
        "print(X_training.shape,preds_train.shape)\n",
        "plt.scatter(X_training_norm[:,0].detach(),preds_train.detach())\n",
        "plt.figure()\n",
        "#plt.scatter(X_training_norm[:,1].detach(),preds_train.detach())\n",
        "print(Y_training[:10],preds_train[:10])\n",
        "for name, param in reg.named_parameters():\n",
        "    if param.requires_grad:\n",
        "        print(name, param.data)"
      ],
      "execution_count": null,
      "outputs": [
        {
          "output_type": "stream",
          "text": [
            "linear.weight tensor([[-0.2160]])\n",
            "linear.bias tensor([0.2169])\n"
          ],
          "name": "stdout"
        },
        {
          "output_type": "stream",
          "text": [
            "/usr/local/lib/python3.7/dist-packages/torch/nn/modules/loss.py:528: UserWarning: Using a target size (torch.Size([1000, 1])) that is different to the input size (torch.Size([1000])). This will likely lead to incorrect results due to broadcasting. Please ensure they have the same size.\n",
            "  return F.mse_loss(input, target, reduction=self.reduction)\n"
          ],
          "name": "stderr"
        },
        {
          "output_type": "stream",
          "text": [
            "MSE Train: 3.54\n",
            "RMSE Train: 1.88\n",
            "<generator object Module.parameters at 0x7f3028335e50>\n",
            "MAE Train: 1.82\n",
            "torch.Size([1000, 1]) torch.Size([1000, 1])\n",
            "tensor([[-1.6083],\n",
            "        [-1.9186],\n",
            "        [-1.5851],\n",
            "        [-1.5836],\n",
            "        [-2.0462],\n",
            "        [-1.9369],\n",
            "        [-1.1803],\n",
            "        [-1.5288],\n",
            "        [-1.8993],\n",
            "        [-1.3204]]) tensor([[ 0.2120],\n",
            "        [ 0.0484],\n",
            "        [ 0.2243],\n",
            "        [ 0.2251],\n",
            "        [-0.0189],\n",
            "        [ 0.0388],\n",
            "        [ 0.4377],\n",
            "        [ 0.2539],\n",
            "        [ 0.0586],\n",
            "        [ 0.3638]], grad_fn=<SliceBackward>)\n",
            "linear.weight tensor([[-0.2145]])\n",
            "linear.bias tensor([0.2059])\n"
          ],
          "name": "stdout"
        },
        {
          "output_type": "display_data",
          "data": {
            "image/png": "[encoded data removed]",
            "text/plain": [
              "<Figure size 432x288 with 1 Axes>"
            ]
          },
          "metadata": {
            "tags": [],
            "needs_background": "light"
          }
        },
        {
          "output_type": "display_data",
          "data": {
            "text/plain": [
              "<Figure size 432x288 with 0 Axes>"
            ]
          },
          "metadata": {
            "tags": []
          }
        }
      ]
    },
    {
      "cell_type": "code",
      "metadata": {
        "id": "0iFuqQ5CgPEU",
        "colab": {
          "base_uri": "https://localhost:8080/"
        },
        "outputId": "94984b70-291f-41a0-a25a-7fdb54d25b7e"
      },
      "source": [
        "class LogisticRegressor(nn.Module):\n",
        "\n",
        "  def __init__(self,in_features):\n",
        "\n",
        "    super(LogisticRegressor,self).__init__()\n",
        "    self.linear=nn.Linear(in_features,1)\n",
        "    self.logistic=nn.Sigmoid()\n",
        "\n",
        "\n",
        "  def forward(self,x):\n",
        "    logits=self.linear(x)\n",
        "    return self.logistic(logits)\n",
        "    \n",
        "\n",
        "\n",
        "lr=0.0001\n",
        "epochs=500\n",
        "data=load_breast_cancer()\n",
        "X=data.data\n",
        "y=data.target\n",
        "\n",
        "\n",
        "X_training = torch.Tensor(X[50:])\n",
        "Y_training = torch.Tensor(y[50:])\n",
        "X_testing = torch.Tensor(X[:50])\n",
        "Y_testing = torch.Tensor(y[:50])\n",
        "\n",
        "\n",
        "\n",
        "means = X_training.mean(0)\n",
        "stds = X_training.std(0)\n",
        "\n",
        "X_training_norm = (X_training-means)/stds\n",
        "X_testing_norm = (X_testing-means)/stds\n",
        "#Passo 2: inizializziamo il modello\n",
        "regressor = LinearRegressor(30,1)\n",
        "loss = nn.MSELoss()\n",
        "sgd = torch.optim.SGD(regressor.parameters(), lr,weight_decay=0.00001,momentum=0.9)\n",
        "\n",
        "\n",
        "for e in range(epochs):\n",
        "\n",
        "  regressor.train()\n",
        "  p=regressor(X_training_norm)\n",
        "\n",
        "  l=loss(p,Y_training.view(-1,1))\n",
        "  l.backward()\n",
        "\n",
        "  sgd.step()\n",
        "  sgd.zero_grad()\n",
        "\n",
        "  regressor.eval()\n",
        "  with torch.set_grad_enabled(False):\n",
        "\n",
        "      p=regressor(X_testing_norm)\n",
        "      l=loss(p,Y_testing.view(-1,1))\n",
        "\n",
        "\n",
        "\n",
        "preds_train=regressor(X_training_norm)\n",
        "preds_testing=regressor(X_testing_norm)\n",
        "\n",
        "def MSE(predictions,gt):\n",
        "  #print(predictions.shape,gt.shape)\n",
        "  #assert predictions.shape==gt.shape\n",
        "  return ((predictions-gt)**2).mean()\n",
        "\n",
        "print(\"MSE Train: {:0.2f}\".format(MSE(preds_train.view(-1),Y_training)))\n",
        "print(\"MSE Test:  {:0.2f}\".format(MSE(preds_testing.view(-1),Y_testing)))\n",
        "\n",
        "\n",
        "def RMSE(predictions,gt):\n",
        "  #detach necessario!\n",
        "  return np.sqrt(MSE(predictions.detach(),gt))\n",
        "\n",
        "\n",
        "print(\"RMSE Train: {:0.2f}\".format(RMSE(preds_train.view(-1),Y_training)))\n",
        "print(\"RMSE Test:  {:0.2f}\".format(RMSE(preds_testing.view(-1),Y_testing)))\n",
        "\n",
        "\n",
        "\n",
        "def MAE(predictions,gt):\n",
        "  #detach necessario!\n",
        "  #assert predictions.shape==gt.shape\n",
        "  return (predictions-gt).abs().mean()\n",
        "\n",
        "print(reg.parameters())\n",
        "print(\"MAE Train: {:0.2f}\".format(MAE(preds_train.view(-1),Y_training)))\n",
        "print(\"MAE Test:  {:0.2f}\".format(MAE(preds_testing.view(-1),Y_testing)))\n",
        "\n",
        "pr_1=preds_testing>=0.5\n",
        "pr_2=preds_train>=0.5\n",
        "\n",
        "\n",
        "print(pr_1.byte().reshape(-1))\n",
        "print(Y_testing)\n",
        "print(confusion_matrix(Y_testing,pr_1.byte().reshape(-1)))\n",
        "print(confusion_matrix(Y_training,pr_2.byte().reshape(-1)))\n"
      ],
      "execution_count": null,
      "outputs": [
        {
          "output_type": "stream",
          "text": [
            "MSE Train: 0.13\n",
            "MSE Test:  0.09\n",
            "RMSE Train: 0.37\n",
            "RMSE Test:  0.30\n",
            "<generator object Module.parameters at 0x7f302cafc5d0>\n",
            "MAE Train: 0.31\n",
            "MAE Test:  0.25\n",
            "tensor([0, 0, 0, 0, 0, 0, 0, 0, 0, 0, 0, 0, 0, 0, 0, 0, 0, 0, 0, 0, 1, 1, 0, 0,\n",
            "        0, 0, 0, 0, 0, 0, 0, 0, 0, 0, 0, 0, 0, 1, 1, 0, 1, 0, 0, 0, 0, 0, 1, 0,\n",
            "        1, 1], dtype=torch.uint8)\n",
            "tensor([0., 0., 0., 0., 0., 0., 0., 0., 0., 0., 0., 0., 0., 0., 0., 0., 0., 0.,\n",
            "        0., 1., 1., 1., 0., 0., 0., 0., 0., 0., 0., 0., 0., 0., 0., 0., 0., 0.,\n",
            "        0., 1., 0., 0., 0., 0., 0., 0., 0., 0., 1., 0., 1., 1.])\n",
            "[[41  2]\n",
            " [ 1  6]]\n",
            "[[162   7]\n",
            " [ 55 295]]\n"
          ],
          "name": "stdout"
        }
      ]
    },
    {
      "cell_type": "code",
      "metadata": {
        "colab": {
          "base_uri": "https://localhost:8080/",
          "height": 278
        },
        "id": "idqWrSzwytn1",
        "outputId": "5499a3b6-5038-4c8f-8bf9-58dba6a324d7"
      },
      "source": [
        "\n",
        "def rec_curve(pred,gt):\n",
        "\n",
        "  assert pred.shape==gt.shape\n",
        "\n",
        "  errors=np.abs(np.array((pred.detach()-gt)))\n",
        "  tolerance=sorted(np.unique(errors))\n",
        "  correct=[]\n",
        "\n",
        "  for t in tolerance:\n",
        "    correct.append((errors<=t).mean())\n",
        "\n",
        "  AUC=np.trapz(correct,tolerance)\n",
        "  tot_area=np.max(tolerance)\n",
        "  AOC=tot_area-AUC\n",
        "\n",
        "  return tolerance,correct,AOC\n",
        "\n",
        "boston_linear_regressor_rec=rec_curve(preds_testing.view(-1),Y_testing)\n",
        "plt.plot(boston_linear_regressor_rec[0],boston_linear_regressor_rec[1])\n",
        "plt.legend(['Boston lin regr AOC: %0.2f' %boston_linear_regressor_rec[2]])\n",
        "plt.xlabel('tolerance')\n",
        "plt.ylabel('% record test set classificati ')\n",
        "plt.grid()\n",
        "plt.show()\n"
      ],
      "execution_count": null,
      "outputs": [
        {
          "output_type": "display_data",
          "data": {
            "image/png": "[encoded data removed]",
            "text/plain": [
              "<Figure size 432x288 with 1 Axes>"
            ]
          },
          "metadata": {
            "tags": [],
            "needs_background": "light"
          }
        }
      ]
    },
    {
      "cell_type": "code",
      "metadata": {
        "id": "46-UhQvnytvm",
        "colab": {
          "base_uri": "https://localhost:8080/",
          "height": 132
        },
        "outputId": "1be53403-516a-480f-8598-b3cebdbed365"
      },
      "source": [
        ""
      ],
      "execution_count": null,
      "outputs": [
        {
          "output_type": "error",
          "ename": "SyntaxError",
          "evalue": "ignored",
          "traceback": [
            "\u001b[0;36m  File \u001b[0;32m\"<ipython-input-402-249811d98539>\"\u001b[0;36m, line \u001b[0;32m10\u001b[0m\n\u001b[0;31m    \u001b[0m\n\u001b[0m    ^\u001b[0m\n\u001b[0;31mSyntaxError\u001b[0m\u001b[0;31m:\u001b[0m unexpected EOF while parsing\n"
          ]
        }
      ]
    },
    {
      "cell_type": "code",
      "metadata": {
        "colab": {
          "base_uri": "https://localhost:8080/",
          "height": 297
        },
        "id": "f_oumIQWKNfN",
        "outputId": "8579e567-c58b-42f5-8a55-affd7c1ffda2"
      },
      "source": [
        "###############################################################################\n",
        "from sklearn.datasets import load_boston\n",
        "import numpy as np\n",
        "import torch\n",
        "from torch import nn\n",
        "from matplotlib import pyplot as plt\n",
        "np.random.seed(123)\n",
        "torch.random.manual_seed(123);\n",
        "boston = load_boston()\n",
        "X = boston.data\n",
        "Y = boston.target\n",
        "X=np.linspace(-10,10,20)\n",
        "X=np.column_stack([X,X**2,X**3,X**4])\n",
        "Y=3*X[:,0]-5*X[:,0]**2+np.random.randn(20)*1/np.random.randn(20)\n",
        "\n",
        "#Y=3*X[:,0]+10*np.sin((X[:,0]))\n",
        "\n",
        "idx = np.random.permutation(len(X))\n",
        "X = X[idx]\n",
        "Y = Y[idx]\n",
        "X_training = torch.Tensor(X[:15])\n",
        "Y_training = torch.Tensor(Y[:15])\n",
        "X_testing = torch.Tensor(X[15:])\n",
        "Y_testing = torch.Tensor(Y[15:])\n",
        "#print(X.shape,Y.shape)\n",
        "plt.scatter(X[:,0],Y)\n",
        "plt.grid()\n",
        "plt.xlabel('x')\n",
        "plt.ylabel('y')"
      ],
      "execution_count": null,
      "outputs": [
        {
          "output_type": "execute_result",
          "data": {
            "text/plain": [
              "Text(0, 0.5, 'y')"
            ]
          },
          "metadata": {
            "tags": []
          },
          "execution_count": 537
        },
        {
          "output_type": "display_data",
          "data": {
            "image/png": "[encoded data removed]",
            "text/plain": [
              "<Figure size 432x288 with 1 Axes>"
            ]
          },
          "metadata": {
            "tags": [],
            "needs_background": "light"
          }
        }
      ]
    },
    {
      "cell_type": "code",
      "metadata": {
        "id": "aej5lwIBKNjh"
      },
      "source": [
        "class LinearRegressor(nn.Module):\n",
        "\n",
        "  def __init__(self, in_size, out_size):\n",
        "    \"\"\"Costruisce un regressore logistico.\n",
        "    Input:\n",
        "    in_size: numero di feature in input (es. 13)\n",
        "    out_size: numero di elementi in output (es. 1)\"\"\"\n",
        "    super(LinearRegressor, self).__init__() #richiamo il costruttore della supe\n",
        "    # rclasse\n",
        "    # #questo passo è necessario per abilitare alcuni meccanismi automatici dei m\n",
        "    # oduli di PyTorch\n",
        "\n",
        "    self.linear = nn.Linear(in_size,out_size)\n",
        "  def forward(self,x):\n",
        "    \"\"\"Definisce come processare l'input x\"\"\"\n",
        "    result = self.linear(x)\n",
        "\n",
        "    return result"
      ],
      "execution_count": null,
      "outputs": []
    },
    {
      "cell_type": "code",
      "metadata": {
        "colab": {
          "base_uri": "https://localhost:8080/"
        },
        "id": "vVYwzBLwKNl0",
        "outputId": "997ee3ac-23d3-4824-9c11-c2bf2eae1b05"
      },
      "source": [
        "from torch.utils.tensorboard import SummaryWriter\n",
        "lr = 0.0000001\n",
        "epochs = 5000\n",
        "writer = SummaryWriter('logs/linear_regressor_1')\n",
        "#normalizzazione dei dati\n",
        "means = X_training.mean(0)\n",
        "stds = X_training.std(0)\n",
        "X_training_norm = (X_training-means)/stds\n",
        "X_testing_norm = (X_testing-means)/stds\n",
        "\n",
        "X_training_norm = (X_training)\n",
        "X_testing_norm = (X_testing)\n",
        "\n",
        "\n",
        "reg = LinearRegressor(4,1)\n",
        "criterion = nn.MSELoss()\n",
        "optimizer = torch.optim.SGD(reg.parameters(),lr=lr,momentum=0.9,weight_decay=0.01)\n",
        "for e in range(epochs):\n",
        "  reg.train()\n",
        "  output = reg(X_training_norm)\n",
        "  l = criterion(output.view(-1),Y_training)\n",
        "\n",
        "  writer.add_scalar('loss/train', l.item(), global_step=e)\n",
        "  l.backward()\n",
        "  optimizer.step()\n",
        "  optimizer.zero_grad()\n",
        "\n",
        "\n",
        "for name, param in reg.named_parameters():\n",
        "    if param.requires_grad:\n",
        "        print(name, param.data)\n",
        "\n",
        "print(reg.parameters())"
      ],
      "execution_count": null,
      "outputs": [
        {
          "output_type": "stream",
          "text": [
            "linear.weight tensor([[28.2055,  0.6605, -0.2255, -0.0562]])\n",
            "linear.bias tensor([-9.9242])\n",
            "<generator object Module.parameters at 0x7f30140210d0>\n"
          ],
          "name": "stdout"
        }
      ]
    },
    {
      "cell_type": "code",
      "metadata": {
        "colab": {
          "base_uri": "https://localhost:8080/"
        },
        "id": "PQQk5kv2KNoz",
        "outputId": "9e410c3b-2873-4b4b-ea91-fe2518dcd3a8"
      },
      "source": [
        "def RMSE(predictions, gt):\n",
        "  assert predictions.shape == gt.shape\n",
        "  return ((predictions-gt)**2).mean()**(1/2)\n",
        "\n",
        "preds_training=reg(X_training_norm)\n",
        "preds_testing=reg(X_testing_norm)  \n",
        "print(\"Root Mean Squared Error (RMSE) di training: {:0.2f}\".format(RMSE(preds_training.view(-1),Y_training)))\n",
        "print(\"Root Mean Squared Error (RMSE) di testing: {:0.2f}\".format(RMSE(preds_testing.view(-1),Y_testing)))"
      ],
      "execution_count": null,
      "outputs": [
        {
          "output_type": "stream",
          "text": [
            "Root Mean Squared Error (RMSE) di training: 166.94\n",
            "Root Mean Squared Error (RMSE) di testing: 109.06\n"
          ],
          "name": "stdout"
        }
      ]
    },
    {
      "cell_type": "code",
      "metadata": {
        "colab": {
          "base_uri": "https://localhost:8080/",
          "height": 532
        },
        "id": "d3t_AguLKNrU",
        "outputId": "3b7ef0d1-f2f5-43f4-a711-fa98f6280067"
      },
      "source": [
        "print(X_training.shape,preds_training.shape)\n",
        "plt.scatter(X_training[:,0],preds_training.detach(),label='stimati',s=100)\n",
        "plt.scatter(X_training[:,0],Y_training,label='reali')\n",
        "\n",
        "plt.legend()\n",
        "plt.grid()\n",
        "plt.figure()\n",
        "plt.scatter(X_testing[:,0],preds_testing.detach(),label='stimati t',s=100)\n",
        "plt.scatter(X_testing[:,0],Y_testing,label='reali t')\n",
        "plt.legend()\n",
        "plt.grid()"
      ],
      "execution_count": null,
      "outputs": [
        {
          "output_type": "stream",
          "text": [
            "torch.Size([15, 4]) torch.Size([15, 1])\n"
          ],
          "name": "stdout"
        },
        {
          "output_type": "display_data",
          "data": {
            "image/png": "[encoded data removed]",
            "text/plain": [
              "<Figure size 432x288 with 1 Axes>"
            ]
          },
          "metadata": {
            "tags": [],
            "needs_background": "light"
          }
        },
        {
          "output_type": "display_data",
          "data": {
            "image/png": "[encoded data removed]",
            "text/plain": [
              "<Figure size 432x288 with 1 Axes>"
            ]
          },
          "metadata": {
            "tags": [],
            "needs_background": "light"
          }
        }
      ]
    },
    {
      "cell_type": "code",
      "metadata": {
        "colab": {
          "base_uri": "https://localhost:8080/"
        },
        "id": "1hfvLu2pevHg",
        "outputId": "591ab4b2-486f-4a03-a805-6cf0fdfe1a27"
      },
      "source": [
        "print(Y_training,preds_training)\n",
        "print(Y_testing,preds_testing)\n"
      ],
      "execution_count": null,
      "outputs": [
        {
          "output_type": "stream",
          "text": [
            "tensor([-468.6384,  -27.5732, -255.8794,  -81.5949,  -55.9015,  -26.2402,\n",
            "        -147.7201, -531.4723, -184.4970, -335.6209,   -1.9582,  561.5756,\n",
            "        -128.9884,    2.8498, -284.7727]) tensor([[-449.5482],\n",
            "        [  62.0682],\n",
            "        [-222.9521],\n",
            "        [-103.9526],\n",
            "        [  81.3194],\n",
            "        [ -52.2741],\n",
            "        [  68.5828],\n",
            "        [-562.5690],\n",
            "        [-170.4723],\n",
            "        [-298.8406],\n",
            "        [ -24.5576],\n",
            "        [  18.5297],\n",
            "        [-133.0406],\n",
            "        [   5.0666],\n",
            "        [ -75.4512]], grad_fn=<AddmmBackward>)\n",
            "tensor([-426.4501, -374.5765,   -7.6947,  -42.2206,  -98.4565]) tensor([[-408.1550],\n",
            "        [-226.5336],\n",
            "        [  35.0202],\n",
            "        [ -78.1608],\n",
            "        [  86.2258]], grad_fn=<AddmmBackward>)\n"
          ],
          "name": "stdout"
        }
      ]
    },
    {
      "cell_type": "code",
      "metadata": {
        "id": "DrnG4iqUKNth",
        "colab": {
          "base_uri": "https://localhost:8080/"
        },
        "outputId": "b11b2fd4-5114-472e-8599-06a46fb9e656"
      },
      "source": [
        "### ESERCIZIO ONE VS ALL\n",
        "\n",
        "from sklearn.datasets import load_iris\n",
        "\n",
        "df=load_iris()\n",
        "X=torch.Tensor(df.data)\n",
        "y=torch.Tensor(df.target)\n",
        "print(df.DESCR)\n",
        "print(X.shape,y.shape)"
      ],
      "execution_count": null,
      "outputs": [
        {
          "output_type": "stream",
          "text": [
            ".. _iris_dataset:\n",
            "\n",
            "Iris plants dataset\n",
            "--------------------\n",
            "\n",
            "**Data Set Characteristics:**\n",
            "\n",
            "    :Number of Instances: 150 (50 in each of three classes)\n",
            "    :Number of Attributes: 4 numeric, predictive attributes and the class\n",
            "    :Attribute Information:\n",
            "        - sepal length in cm\n",
            "        - sepal width in cm\n",
            "        - petal length in cm\n",
            "        - petal width in cm\n",
            "        - class:\n",
            "                - Iris-Setosa\n",
            "                - Iris-Versicolour\n",
            "                - Iris-Virginica\n",
            "                \n",
            "    :Summary Statistics:\n",
            "\n",
            "    ============== ==== ==== ======= ===== ====================\n",
            "                    Min  Max   Mean    SD   Class Correlation\n",
            "    ============== ==== ==== ======= ===== ====================\n",
            "    sepal length:   4.3  7.9   5.84   0.83    0.7826\n",
            "    sepal width:    2.0  4.4   3.05   0.43   -0.4194\n",
            "    petal length:   1.0  6.9   3.76   1.76    0.9490  (high!)\n",
            "    petal width:    0.1  2.5   1.20   0.76    0.9565  (high!)\n",
            "    ============== ==== ==== ======= ===== ====================\n",
            "\n",
            "    :Missing Attribute Values: None\n",
            "    :Class Distribution: 33.3% for each of 3 classes.\n",
            "    :Creator: R.A. Fisher\n",
            "    :Donor: Michael Marshall (MARSHALL%PLU@io.arc.nasa.gov)\n",
            "    :Date: July, 1988\n",
            "\n",
            "The famous Iris database, first used by Sir R.A. Fisher. The dataset is taken\n",
            "from Fisher's paper. Note that it's the same as in R, but not as in the UCI\n",
            "Machine Learning Repository, which has two wrong data points.\n",
            "\n",
            "This is perhaps the best known database to be found in the\n",
            "pattern recognition literature.  Fisher's paper is a classic in the field and\n",
            "is referenced frequently to this day.  (See Duda & Hart, for example.)  The\n",
            "data set contains 3 classes of 50 instances each, where each class refers to a\n",
            "type of iris plant.  One class is linearly separable from the other 2; the\n",
            "latter are NOT linearly separable from each other.\n",
            "\n",
            ".. topic:: References\n",
            "\n",
            "   - Fisher, R.A. \"The use of multiple measurements in taxonomic problems\"\n",
            "     Annual Eugenics, 7, Part II, 179-188 (1936); also in \"Contributions to\n",
            "     Mathematical Statistics\" (John Wiley, NY, 1950).\n",
            "   - Duda, R.O., & Hart, P.E. (1973) Pattern Classification and Scene Analysis.\n",
            "     (Q327.D83) John Wiley & Sons.  ISBN 0-471-22361-1.  See page 218.\n",
            "   - Dasarathy, B.V. (1980) \"Nosing Around the Neighborhood: A New System\n",
            "     Structure and Classification Rule for Recognition in Partially Exposed\n",
            "     Environments\".  IEEE Transactions on Pattern Analysis and Machine\n",
            "     Intelligence, Vol. PAMI-2, No. 1, 67-71.\n",
            "   - Gates, G.W. (1972) \"The Reduced Nearest Neighbor Rule\".  IEEE Transactions\n",
            "     on Information Theory, May 1972, 431-433.\n",
            "   - See also: 1988 MLC Proceedings, 54-64.  Cheeseman et al\"s AUTOCLASS II\n",
            "     conceptual clustering system finds 3 classes in the data.\n",
            "   - Many, many more ...\n",
            "torch.Size([150, 4]) torch.Size([150])\n"
          ],
          "name": "stdout"
        }
      ]
    },
    {
      "cell_type": "code",
      "metadata": {
        "colab": {
          "base_uri": "https://localhost:8080/",
          "height": 1000
        },
        "id": "rMODlcKjy90g",
        "outputId": "fa1273c1-1a4b-41cb-ca0c-dd0813944b9a"
      },
      "source": [
        "import torch\n",
        "from torch import  nn\n",
        "from sklearn.model_selection import train_test_split\n",
        "from sklearn.metrics import confusion_matrix\n",
        "import matplotlib.pyplot as plt\n",
        "\n",
        "class LogisticRegressorOneVsAll(nn.Module):\n",
        "\n",
        "  ##Classificatori Binari diversi\n",
        "  def __init__(self,in_features,out_features):\n",
        "\n",
        "    super(LogisticRegressorOneVsAll,self).__init__()\n",
        "    self.models=[]\n",
        "    for _ in range(out_features):\n",
        "      self.models.append((nn.Linear(in_features,1)))\n",
        "\n",
        "    self.loss = nn.BCELoss()\n",
        "    self.logistic=nn.Sigmoid()\n",
        "\n",
        "  def fit(self,X_training,Y_training,X_testing,Y_testing,epochs=100,lr=0.001):\n",
        "      \n",
        "\n",
        "      self.means = X_training.mean(0)\n",
        "      self.stds = X_training.std(0)\n",
        "\n",
        "      X_training_norm = (X_training-self.means)/self.stds\n",
        "      X_testing_norm = (X_testing-self.means)/self.stds\n",
        "      # #Passo 2: inizializziamo il modello\n",
        "\n",
        "      ## CLASSE 0 vs 1-2\n",
        "      sgd = torch.optim.SGD(self.models[0].parameters(), lr,momentum=0.9,weight_decay=0.01)\n",
        "      mapper={0:1,1:0,2:0}\n",
        "      map_=np.vectorize(lambda x :mapper[x])\n",
        "      Y_training_0=torch.Tensor(map_(y_train))\n",
        "      \n",
        "\n",
        "      for e in range(epochs):\n",
        "        self.models[0].train()\n",
        "        p=self.models[0](X_training_norm)\n",
        "        l=self.loss(self.logistic(p),Y_training_0.view(-1,1))\n",
        "        l.backward()\n",
        "\n",
        "        sgd.step()\n",
        "        sgd.zero_grad()\n",
        "\n",
        "      # print(self.models[0].state_dict())\n",
        "      # print(Y_training_0)\n",
        "      # print(self.logistic(self.models[0](X_training_norm)))\n",
        "\n",
        "\n",
        "    ### CLASSE 1 vs 0-2\n",
        "\n",
        "      sgd = torch.optim.SGD(self.models[1].parameters(), lr,momentum=0.9,weight_decay=0.01)\n",
        "      mapper={0:0,1:1,2:0}\n",
        "      map_=np.vectorize(lambda x :mapper[x])\n",
        "      Y_training_1=torch.Tensor(map_(y_train))\n",
        "      \n",
        "\n",
        "      for e in range(epochs):\n",
        "        self.models[1].train()\n",
        "        p=self.models[1](X_training_norm)\n",
        "\n",
        "        l=self.loss(self.logistic(p),Y_training_1.view(-1,1))\n",
        "        l.backward()\n",
        "\n",
        "        sgd.step()\n",
        "        sgd.zero_grad()\n",
        "\n",
        "    ### CLASSE 2 vs 0-1\n",
        "\n",
        "      sgd = torch.optim.SGD(self.models[2].parameters(), lr,momentum=0.9,weight_decay=0.01)\n",
        "      mapper={0:0,1:0,2:1}\n",
        "      map_=np.vectorize(lambda x :mapper[x])\n",
        "      Y_training_2=torch.Tensor(map_(y_train))\n",
        "      \n",
        "\n",
        "      for e in range(epochs):\n",
        "        self.models[2].train()\n",
        "        p=self.models[2](X_training_norm)\n",
        "\n",
        "        l=self.loss(self.logistic(p),Y_training_2.view(-1,1))\n",
        "        l.backward()\n",
        "\n",
        "        sgd.step()\n",
        "        sgd.zero_grad()\n",
        "      \n",
        "\n",
        "\n",
        "      p_0_test=self.logistic(self.models[0](X_training_norm))\n",
        "      #print(p_0_test[:10])\n",
        "      print(p_0_test[:10].round())\n",
        "      p_0_test=p_0_test.detach().round()\n",
        "      \n",
        "      plt.scatter(X_training_norm[:,0],X_training_norm[:,1],c=Y_training_0)\n",
        "      plt.figure()\n",
        "      plt.scatter(X_training_norm[:,0],X_training_norm[:,1],c=p_0_test.detach())\n",
        "      \n",
        "      plt.grid()\n",
        "      plt.title(\"0 vs 1-2\")\n",
        "      plt.figure()\n",
        "      print(\"Accuracy:\", self.accuracy(p_0_test,Y_training_0))\n",
        "\n",
        "      p_0_test=self.logistic(self.models[1](X_training_norm))\n",
        "      #print(p_0_test[:10])\n",
        "      print(p_0_test[:10].round())\n",
        "      p_0_test=p_0_test.detach().round()\n",
        "      \n",
        "      plt.scatter(X_training_norm[:,0],X_training_norm[:,1],c=Y_training_1)\n",
        "      plt.figure()\n",
        "      plt.scatter(X_training_norm[:,0],X_training_norm[:,1],c=p_0_test.detach())\n",
        "      \n",
        "      plt.grid()\n",
        "      plt.title(\"1 vs 0-2\")\n",
        "      print(\"Accuracy:\", self.accuracy(p_0_test,Y_training_1))\n",
        "\n",
        "      plt.figure()\n",
        "      p_0_test=self.logistic(self.models[2](X_training_norm))\n",
        "      #print(p_0_test[:10])\n",
        "      print(p_0_test[:10].round())\n",
        "      p_0_test=p_0_test.detach().round()\n",
        "      \n",
        "      plt.scatter(X_training_norm[:,0],X_training_norm[:,1],c=Y_training_2)\n",
        "      plt.figure()\n",
        "      plt.scatter(X_training_norm[:,0],X_training_norm[:,1],c=p_0_test.detach())\n",
        "      \n",
        "      plt.grid()\n",
        "      plt.title(\"2 vs 0-1\")\n",
        "      print(\"Accuracy:\", self.accuracy(p_0_test,Y_training_2))\n",
        "      plt.figure()\n",
        "      plt.scatter(X_training_norm[:,0],X_training_norm[:,1],c=Y_training)\n",
        "\n",
        "\n",
        "\n",
        "  def accuracy(self,pred,gt):\n",
        "\n",
        "      correct=pred.view(-1).byte()==gt.view(-1).byte()\n",
        "    \n",
        "\n",
        "\n",
        "      return float(correct.sum())/len(correct),\n",
        "\n",
        "  def predict_proba(self,X_test):\n",
        "    \n",
        "    X_testing_norm = (X_test-self.means)/self.stds\n",
        "      \n",
        "    a=self.logistic(self.models[0](X_testing_norm))\n",
        "    b=self.logistic(self.models[1](X_testing_norm))\n",
        "    c=self.logistic(self.models[2](X_testing_norm))\n",
        "    \n",
        "    return torch.cat((a,b,c),1)\n",
        "\n",
        "  def predict_class(self,X_test):\n",
        "\n",
        "    return (self.predict_proba(X_test)).max(1)[1]\n",
        "\n",
        "\n",
        "  # def forward(self,x):\n",
        "  #   logits=self.linear(x)\n",
        "  #   return self.logistic(logits)\n",
        "  \n",
        "\n",
        "X_train,X_test,y_train,y_test=train_test_split(X,y)\n",
        "\n",
        "model=LogisticRegressorOneVsAll(4,3)\n",
        "model.fit(X_train,y_train,X_test,y_test,epochs=10000,lr=0.0001)\n",
        "print(\"quiii\")\n",
        "a=model.predict_class(X_test)\n",
        "print(y_test)\n",
        "print(confusion_matrix(y_test,a))\n",
        "print(confusion_matrix(y_train,model.predict_class(X_train)))\n",
        "# p_test=regressor(X_testing_norm)\n",
        "# print(loss(p_test,Y_testing.view(-1,1)))\n",
        "\n",
        "# pr_train=regressor(X_training_norm)\n",
        "# pr_test=regressor(X_testing_norm)\n",
        "\n",
        "# pred_train=pr_train>=0.5\n",
        "# pred_test=pr_test>=0.5\n",
        "\n",
        "\n",
        "\n",
        "# def accuracy(pred,gt):\n",
        "#   correct=pred.view(-1).byte()==gt.view(-1).byte()\n",
        "\n",
        "#   return float(correct.sum())/len(correct)\n",
        "\n",
        "\n",
        "# print(\"Accuracy di training: {:0.2f}\".format(accuracy(pred_train,Y_training)))\n",
        "# print(\"Accuracy di test: {:0.2f}\".format(accuracy(pred_test,Y_testing)))\n",
        "# pred=pred_train\n",
        "# # print(pred)\n",
        "# print(pred.view(-1))\n",
        "# print(pred.view(-1).shape)\n",
        "\n",
        "# print(pred.view(-1).byte())\n"
      ],
      "execution_count": null,
      "outputs": [
        {
          "output_type": "stream",
          "text": [
            "tensor([[1.],\n",
            "        [0.],\n",
            "        [0.],\n",
            "        [0.],\n",
            "        [0.],\n",
            "        [1.],\n",
            "        [1.],\n",
            "        [0.],\n",
            "        [0.],\n",
            "        [0.]], grad_fn=<RoundBackward>)\n",
            "Accuracy: (1.0,)\n",
            "tensor([[0.],\n",
            "        [0.],\n",
            "        [1.],\n",
            "        [0.],\n",
            "        [0.],\n",
            "        [0.],\n",
            "        [0.],\n",
            "        [0.],\n",
            "        [1.],\n",
            "        [0.]], grad_fn=<RoundBackward>)\n",
            "Accuracy: (0.7410714285714286,)\n",
            "tensor([[0.],\n",
            "        [1.],\n",
            "        [0.],\n",
            "        [1.],\n",
            "        [1.],\n",
            "        [0.],\n",
            "        [0.],\n",
            "        [1.],\n",
            "        [0.],\n",
            "        [1.]], grad_fn=<RoundBackward>)\n",
            "Accuracy: (0.9017857142857143,)\n",
            "quiii\n",
            "tensor([2., 0., 2., 2., 0., 0., 2., 2., 2., 2., 2., 1., 1., 2., 0., 2., 1., 1.,\n",
            "        1., 0., 2., 2., 2., 1., 1., 2., 2., 1., 1., 2., 0., 0., 2., 1., 2., 1.,\n",
            "        1., 0.])\n",
            "[[ 8  0  0]\n",
            " [ 0  8  4]\n",
            " [ 0  3 15]]\n",
            "[[42  0  0]\n",
            " [ 0 27 11]\n",
            " [ 0  6 26]]\n"
          ],
          "name": "stdout"
        },
        {
          "output_type": "display_data",
          "data": {
            "image/png": "[encoded data removed]",
            "text/plain": [
              "<Figure size 432x288 with 1 Axes>"
            ]
          },
          "metadata": {
            "tags": [],
            "needs_background": "light"
          }
        },
        {
          "output_type": "display_data",
          "data": {
            "image/png": "[encoded data removed]",
            "text/plain": [
              "<Figure size 432x288 with 1 Axes>"
            ]
          },
          "metadata": {
            "tags": [],
            "needs_background": "light"
          }
        },
        {
          "output_type": "display_data",
          "data": {
            "image/png": "[encoded data removed]",
            "text/plain": [
              "<Figure size 432x288 with 1 Axes>"
            ]
          },
          "metadata": {
            "tags": [],
            "needs_background": "light"
          }
        },
        {
          "output_type": "display_data",
          "data": {
            "image/png": "[encoded data removed]",
            "text/plain": [
              "<Figure size 432x288 with 1 Axes>"
            ]
          },
          "metadata": {
            "tags": [],
            "needs_background": "light"
          }
        },
        {
          "output_type": "display_data",
          "data": {
            "image/png": "[encoded data removed]",
            "text/plain": [
              "<Figure size 432x288 with 1 Axes>"
            ]
          },
          "metadata": {
            "tags": [],
            "needs_background": "light"
          }
        },
        {
          "output_type": "display_data",
          "data": {
            "image/png": "[encoded data removed]",
            "text/plain": [
              "<Figure size 432x288 with 1 Axes>"
            ]
          },
          "metadata": {
            "tags": [],
            "needs_background": "light"
          }
        },
        {
          "output_type": "display_data",
          "data": {
            "image/png": "[encoded data removed]",
            "text/plain": [
              "<Figure size 432x288 with 1 Axes>"
            ]
          },
          "metadata": {
            "tags": [],
            "needs_background": "light"
          }
        }
      ]
    },
    {
      "cell_type": "code",
      "metadata": {
        "id": "L9Oo98aiKNv7",
        "colab": {
          "base_uri": "https://localhost:8080/"
        },
        "outputId": "0773527a-c661-4c45-e65a-da1bcce4a7bc"
      },
      "source": [
        "!nvidia-smi"
      ],
      "execution_count": null,
      "outputs": [
        {
          "output_type": "stream",
          "text": [
            "Thu Apr 15 10:49:08 2021       \n",
            "+-----------------------------------------------------------------------------+\n",
            "| NVIDIA-SMI 460.67       Driver Version: 460.32.03    CUDA Version: 11.2     |\n",
            "|-------------------------------+----------------------+----------------------+\n",
            "| GPU  Name        Persistence-M| Bus-Id        Disp.A | Volatile Uncorr. ECC |\n",
            "| Fan  Temp  Perf  Pwr:Usage/Cap|         Memory-Usage | GPU-Util  Compute M. |\n",
            "|                               |                      |               MIG M. |\n",
            "|===============================+======================+======================|\n",
            "|   0  Tesla K80           Off  | 00000000:00:04.0 Off |                    0 |\n",
            "| N/A   33C    P8    28W / 149W |      3MiB / 11441MiB |      0%      Default |\n",
            "|                               |                      |                  N/A |\n",
            "+-------------------------------+----------------------+----------------------+\n",
            "                                                                               \n",
            "+-----------------------------------------------------------------------------+\n",
            "| Processes:                                                                  |\n",
            "|  GPU   GI   CI        PID   Type   Process name                  GPU Memory |\n",
            "|        ID   ID                                                   Usage      |\n",
            "|=============================================================================|\n",
            "|  No running processes found                                                 |\n",
            "+-----------------------------------------------------------------------------+\n"
          ],
          "name": "stdout"
        }
      ]
    },
    {
      "cell_type": "code",
      "metadata": {
        "id": "Rdo3T67cKNzA",
        "colab": {
          "base_uri": "https://localhost:8080/"
        },
        "outputId": "ed8a0305-eafd-4575-b677-32cc0f8bcb4d"
      },
      "source": [
        "import numpy as np\n",
        "from collections import Counter\n",
        "\n",
        "mapper={0:1,1:0,2:0}\n",
        "Y_training_0=np.vectorize(lambda x :mapper[x])\n",
        "Y_training_0(y_train)\n",
        "print(Counter(Y_training_0(y_train)))\n",
        "print(Counter(y_train))"
      ],
      "execution_count": null,
      "outputs": [
        {
          "output_type": "stream",
          "text": [
            "Counter({0: 78, 1: 34})\n",
            "Counter({2: 41, 1: 37, 0: 34})\n"
          ],
          "name": "stdout"
        }
      ]
    },
    {
      "cell_type": "code",
      "metadata": {
        "id": "qETBNsaZKN12"
      },
      "source": [
        "### one vs one da fare !!"
      ],
      "execution_count": null,
      "outputs": []
    },
    {
      "cell_type": "code",
      "metadata": {
        "id": "_CfkKaCzKN41"
      },
      "source": [
        ""
      ],
      "execution_count": null,
      "outputs": []
    },
    {
      "cell_type": "code",
      "metadata": {
        "id": "RilSr9TLKN8M"
      },
      "source": [
        ""
      ],
      "execution_count": null,
      "outputs": []
    },
    {
      "cell_type": "code",
      "metadata": {
        "id": "48s5IeS5KN-d"
      },
      "source": [
        ""
      ],
      "execution_count": null,
      "outputs": []
    }
  ]
}